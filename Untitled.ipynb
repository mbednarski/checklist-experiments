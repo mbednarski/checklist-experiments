{
 "cells": [
  {
   "cell_type": "code",
   "execution_count": 1,
   "metadata": {},
   "outputs": [],
   "source": [
    "import checklist\n",
    "from checklist.editor import Editor\n",
    "from checklist.perturb import Perturb\n",
    "from pprint import pprint"
   ]
  },
  {
   "cell_type": "code",
   "execution_count": 2,
   "metadata": {},
   "outputs": [],
   "source": [
    "editor = Editor()"
   ]
  },
  {
   "cell_type": "code",
   "execution_count": 3,
   "metadata": {},
   "outputs": [
    {
     "name": "stdout",
     "output_type": "stream",
     "text": [
      "{'data': ['Rebecca is a great actress, she comes from South Sudan',\n",
      "          'Aaron is a great actress, he comes from Austria',\n",
      "          'Kevin is a great actress, he comes from Equatorial Guinea',\n",
      "          'Jamie is a great actress, she comes from Eswatini',\n",
      "          'Sarah is a great actress, she comes from Norway',\n",
      "          'Melissa is a great actress, she comes from Uganda',\n",
      "          'Jonathan is a great actress, he comes from Oman',\n",
      "          'Lisa is a great actress, she comes from Ecuador',\n",
      "          'Lisa is a great actress, she comes from Antigua and Barbuda',\n",
      "          'Emma is a great actress, she comes from Romania'],\n",
      " 'labels': [1, 1, 1, 1, 1, 1, 1, 1, 1, 1]}\n"
     ]
    }
   ],
   "source": [
    "ret = editor.template('{first_pronoun.name} is a great actress, {first_pronoun.pronoun} comes from {country}',\n",
    "                      nsamples=10, remove_duplicates=True, labels=1)\n",
    "pprint(ret)"
   ]
  },
  {
   "cell_type": "code",
   "execution_count": 4,
   "metadata": {},
   "outputs": [
    {
     "data": {
      "text/plain": [
       "dict_keys(['male', 'female', 'first_name', 'first_pronoun', 'last_name', 'country', 'nationality', 'city', 'religion', 'religion_adj', 'sexual_adj', 'country_city', 'male_from', 'female_from', 'last_from'])"
      ]
     },
     "execution_count": 4,
     "metadata": {},
     "output_type": "execute_result"
    }
   ],
   "source": [
    "editor.lexicons.keys()"
   ]
  },
  {
   "cell_type": "code",
   "execution_count": 5,
   "metadata": {},
   "outputs": [],
   "source": [
    "editor.add_lexicon('neg_adj', ['bad', 'awful', 'amateur'])"
   ]
  },
  {
   "cell_type": "code",
   "execution_count": 6,
   "metadata": {},
   "outputs": [
    {
     "name": "stdout",
     "output_type": "stream",
     "text": [
      "{'data': ['Bill Cohen is a bad director.',\n",
      "          'Jim Allen is an amateur director.',\n",
      "          'Joseph Ward is an amateur director.',\n",
      "          'Ben Shaw is an awful director.',\n",
      "          'Nick Harris is an awful director.',\n",
      "          'Roger Murray is an awful director.',\n",
      "          'Adam Stevens is an amateur director.',\n",
      "          'Tony Hill is a bad director.',\n",
      "          'Edwin Taylor is a bad director.',\n",
      "          'Bruce Hart is a bad director.'],\n",
      " 'labels': [0, 0, 0, 0, 0, 0, 0, 0, 0, 0]}\n"
     ]
    }
   ],
   "source": [
    "ret = editor.template('{male} {last_name} is {a:neg_adj} director.',\n",
    "remove_duplicates=True, nsamples=10,  labels=0)\n",
    "pprint(ret)"
   ]
  },
  {
   "cell_type": "code",
   "execution_count": 7,
   "metadata": {},
   "outputs": [
    {
     "name": "stderr",
     "output_type": "stream",
     "text": [
      "Some weights of RobertaForMaskedLM were not initialized from the model checkpoint at roberta-base and are newly initialized: ['lm_head.decoder.bias']\n",
      "You should probably TRAIN this model on a down-stream task to be able to use it for predictions and inference.\n"
     ]
    },
    {
     "name": "stdout",
     "output_type": "stream",
     "text": [
      "{'data': ['I like genre movies',\n",
      "          'I like the movies',\n",
      "          'I like silly movies',\n",
      "          'I like adventure movies',\n",
      "          'I like TV movies',\n",
      "          'I like bad movies',\n",
      "          'I like cheap movies',\n",
      "          'I like historical movies',\n",
      "          'I like indie movies',\n",
      "          'I like action movies']}\n"
     ]
    }
   ],
   "source": [
    "ret = editor.template('I like {mask} movies',nsamples=10 )\n",
    "pprint(ret)"
   ]
  },
  {
   "cell_type": "code",
   "execution_count": 8,
   "metadata": {},
   "outputs": [
    {
     "name": "stdout",
     "output_type": "stream",
     "text": [
      "TemplateEditor(bert_suggests=['horror', 'action', 'good', 'scary', 'superhero', 'bad', 'old', 'family', 'making', 'adventure'], templates=[['I', ' like', ([], 'mask', 'mask'), 'm', 'ovies']])\n"
     ]
    }
   ],
   "source": [
    "ret = editor.visual_suggest('I like {mask} movies',nsamples=10 )\n",
    "pprint(ret)"
   ]
  },
  {
   "cell_type": "code",
   "execution_count": null,
   "metadata": {},
   "outputs": [],
   "source": []
  }
 ],
 "metadata": {
  "kernelspec": {
   "display_name": "Python 3",
   "language": "python",
   "name": "python3"
  },
  "language_info": {
   "codemirror_mode": {
    "name": "ipython",
    "version": 3
   },
   "file_extension": ".py",
   "mimetype": "text/x-python",
   "name": "python",
   "nbconvert_exporter": "python",
   "pygments_lexer": "ipython3",
   "version": "3.8.5"
  }
 },
 "nbformat": 4,
 "nbformat_minor": 4
}
